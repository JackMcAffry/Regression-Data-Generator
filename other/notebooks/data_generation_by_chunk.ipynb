{
 "cells": [
  {
   "cell_type": "markdown",
   "metadata": {},
   "source": [
    "# Data generation by chunk\n",
    "The whole datas will be stored chunk by chunk in .csv files in order to save memory.\n",
    "These functions don't return velues."
   ]
  },
  {
   "cell_type": "markdown",
   "metadata": {},
   "source": [
    "## Separated params\n",
    "It is the easiest way to generate datasets. You don't need to instantiate classes, just put mathematical parameters and generation choices into the functions \"lr_chunk_separated_params\" or \"log_chunk_separated_params\""
   ]
  },
  {
   "cell_type": "markdown",
   "metadata": {},
   "source": [
    "### Linear Regression"
   ]
  },
  {
   "cell_type": "code",
   "execution_count": 9,
   "metadata": {},
   "outputs": [
    {
     "name": "stdout",
     "output_type": "stream",
     "text": [
      "Number of iterations: 3\n",
      "Memory usage of [Y, X] (per chunk): 368.0 Bytes\n",
      "Dataset generation time took 0:00:00.049002\n"
     ]
    }
   ],
   "source": [
    "from model.simple_access.functions import Generator\n",
    "\n",
    "Generator.lr_chunk_separated_params(seed=11,n_variables=5,error_variance=0,n_points=30,related_vars=3,n_scales=1,requested_mean=2,unuseful_vars=1,opt_level='float32',chunks=3,output_filepath=\"output/notebook_chunk_1\") \n"
   ]
  },
  {
   "cell_type": "markdown",
   "metadata": {},
   "source": [
    "### Logistic Regression"
   ]
  },
  {
   "cell_type": "code",
   "execution_count": 14,
   "metadata": {
    "scrolled": true
   },
   "outputs": [
    {
     "name": "stdout",
     "output_type": "stream",
     "text": [
      "Number of iterations: 15\n",
      "Memory usage of [Y, X] (per chunk): 224.0 Bytes\n",
      "Dataset generation time took 0:00:00.099006\n"
     ]
    }
   ],
   "source": [
    "from model.simple_access.functions import Generator\n",
    "\n",
    "Generator.log_chunk_separated_params(seed=11,n_variables=5,error_variance=0,n_points=30,related_vars=3,n_scales=1,requested_odds=2,unuseful_vars=1, output_filepath=\"output/notebook_chunk_2\",chunks=15) "
   ]
  },
  {
   "cell_type": "markdown",
   "metadata": {},
   "source": [
    "## By params instance\n",
    "At first, you have to instance a class containing mathematical parameters. Later, you have to put this instance, together with generation choices, into the functions \"lr_chunk\" or \"log_chunk\"."
   ]
  },
  {
   "cell_type": "markdown",
   "metadata": {},
   "source": [
    "### Linear Regression"
   ]
  },
  {
   "cell_type": "code",
   "execution_count": 11,
   "metadata": {
    "scrolled": true
   },
   "outputs": [],
   "source": [
    "from model.simple_access.functions import Generator\n",
    "from model.implementation_lr.lr_params import LR_Params\n",
    "\n",
    "params = LR_Params(seed=11,n_variables=5,error_variance=0,n_points=30,related_vars=3,n_scales=1,requested_mean=2,unuseful_vars=1)\n",
    "Generator.lr_chunk(params,verbose=False,output_filepath=\"output/notebook_chunk_3\") "
   ]
  },
  {
   "cell_type": "markdown",
   "metadata": {},
   "source": [
    "### Logistic Regression"
   ]
  },
  {
   "cell_type": "code",
   "execution_count": 13,
   "metadata": {
    "scrolled": false
   },
   "outputs": [
    {
     "name": "stdout",
     "output_type": "stream",
     "text": [
      "Number of iterations: 5\n",
      "Memory usage of [Y, X] (per chunk): 416.0 Bytes\n",
      "Dataset generation time took 0:00:00.035002\n"
     ]
    }
   ],
   "source": [
    "from model.simple_access.functions import Generator\n",
    "from model.implementation_log.log_params import Log_Params\n",
    "\n",
    "params = Log_Params(seed=11,n_variables=5,error_variance=0,n_points=30,related_vars=3,n_scales=1,requested_odds=2,unuseful_vars=1)\n",
    "Generator.log_chunk(params, output_filepath=\"output/notebook_chunk_4\",chunks=5) "
   ]
  },
  {
   "cell_type": "code",
   "execution_count": null,
   "metadata": {},
   "outputs": [],
   "source": []
  }
 ],
 "metadata": {
  "kernelspec": {
   "display_name": "Python 3",
   "language": "python",
   "name": "python3"
  },
  "language_info": {
   "codemirror_mode": {
    "name": "ipython",
    "version": 3
   },
   "file_extension": ".py",
   "mimetype": "text/x-python",
   "name": "python",
   "nbconvert_exporter": "python",
   "pygments_lexer": "ipython3",
   "version": "3.7.6"
  }
 },
 "nbformat": 4,
 "nbformat_minor": 4
}
